{
 "cells": [
  {
   "cell_type": "markdown",
   "id": "c37a02c0",
   "metadata": {},
   "source": [
    "#### About this Dataset\n",
    "This Dataset was extracted from Kaggle and is in the following url: https://www.kaggle.com/spscientist/students-performance-in-exams. and consist in marks obtained by students in various subjetcs. the shape of this dataset is 8 columns x 1.000 rows"
   ]
  },
  {
   "cell_type": "markdown",
   "id": "06dada79",
   "metadata": {},
   "source": [
    "#### Data Preparation\n",
    "\n",
    "As this Dataset is structured and being prepared for analisis for the autor, we only need to read the file and then performing statistics and analisis that we consider to do"
   ]
  },
  {
   "cell_type": "code",
   "execution_count": 13,
   "id": "115559ad",
   "metadata": {
    "ExecuteTime": {
     "end_time": "2021-10-09T10:40:02.845548Z",
     "start_time": "2021-10-09T10:40:02.838567Z"
    }
   },
   "outputs": [],
   "source": [
    "#Libraries\n",
    "import numpy as np\n",
    "from collections import defaultdict\n",
    "import csv"
   ]
  },
  {
   "cell_type": "code",
   "execution_count": 14,
   "id": "6d14559b",
   "metadata": {
    "ExecuteTime": {
     "end_time": "2021-10-09T10:40:03.002798Z",
     "start_time": "2021-10-09T10:40:02.997841Z"
    }
   },
   "outputs": [
    {
     "name": "stdout",
     "output_type": "stream",
     "text": [
      "['gender', 'race/ethnicity', 'parental level of education', 'lunch', 'test preparation course', 'math score', 'reading score', 'writing score']\n"
     ]
    }
   ],
   "source": [
    "#lecture of dataset\n",
    "path=r'C:\\Users\\david\\Libertad Financiera\\StudentsPerformance.csv'\n",
    "file=open(path)\n",
    "student_scores=csv.reader(file,delimiter = ',')\n",
    "header=next(student_scores)\n",
    "print(header)"
   ]
  },
  {
   "cell_type": "code",
   "execution_count": 17,
   "id": "a569ee4f",
   "metadata": {
    "ExecuteTime": {
     "end_time": "2021-10-09T10:42:55.566550Z",
     "start_time": "2021-10-09T10:42:55.559569Z"
    }
   },
   "outputs": [],
   "source": [
    "# creation of the dataset and formating as integer some columns that contains numbers\n",
    "dataset=[]\n",
    "for line in student_scores:\n",
    "    d=dict(zip(header,line))\n",
    "    d['math score']=int(d['math score'])\n",
    "    d['reading score']=int(d['reading score'])\n",
    "    d['writing score']=int(d['writing score'])\n",
    "    dataset.append(d)\n",
    "    "
   ]
  },
  {
   "cell_type": "markdown",
   "id": "649d354e",
   "metadata": {
    "ExecuteTime": {
     "end_time": "2021-10-07T10:27:07.826179Z",
     "start_time": "2021-10-07T10:27:07.816207Z"
    }
   },
   "source": [
    "#### Statistics\n",
    "\n",
    "Lets perform some statistics to see if any of the cualitative variables influence in the results"
   ]
  },
  {
   "cell_type": "markdown",
   "id": "757c07af",
   "metadata": {
    "ExecuteTime": {
     "end_time": "2021-10-09T10:57:19.402721Z",
     "start_time": "2021-10-09T10:57:19.389755Z"
    }
   },
   "source": [
    "##### first analisis"
   ]
  },
  {
   "cell_type": "code",
   "execution_count": 24,
   "id": "5ef2c553",
   "metadata": {
    "ExecuteTime": {
     "end_time": "2021-10-09T10:55:47.681819Z",
     "start_time": "2021-10-09T10:55:47.660829Z"
    }
   },
   "outputs": [
    {
     "name": "stdout",
     "output_type": "stream",
     "text": [
      "math {'female': 63.61702127659574, 'male': 68.72821576763485}\n",
      "reading {'female': 68.11315280464217, 'male': 67.100622406639}\n",
      "writing {'female': 69.56350741457125, 'male': 65.8374827109267}\n"
     ]
    }
   ],
   "source": [
    "#Gender Analisis\n",
    "gender_statistics=defaultdict(list)\n",
    "\n",
    "#math\n",
    "for d in dataset:\n",
    "    gender_statistics[d['gender']].append(d['math score'])\n",
    "    \n",
    "averagepergender={}\n",
    "for p in gender_statistics:\n",
    "    averagepergender[p]=sum(gender_statistics[p])/len(gender_statistics[p])\n",
    "    \n",
    "print('math',averagepergender)\n",
    "\n",
    "#reading\n",
    "for d in dataset:\n",
    "    gender_statistics[d['gender']].append(d['reading score'])\n",
    "    \n",
    "averagepergender={}\n",
    "for p in gender_statistics:\n",
    "    averagepergender[p]=sum(gender_statistics[p])/len(gender_statistics[p])\n",
    "    \n",
    "print('reading',averagepergender)\n",
    "\n",
    "#writing\n",
    "for d in dataset:\n",
    "    gender_statistics[d['gender']].append(d['writing score'])\n",
    "    \n",
    "averagepergender={}\n",
    "for p in gender_statistics:\n",
    "    averagepergender[p]=sum(gender_statistics[p])/len(gender_statistics[p])\n",
    "    \n",
    "print('writing',averagepergender)\n"
   ]
  },
  {
   "cell_type": "markdown",
   "id": "ee489f1d",
   "metadata": {},
   "source": [
    "In this first analisis the result tell us that females are better in the three areas evaluated"
   ]
  },
  {
   "cell_type": "markdown",
   "id": "34ba5d47",
   "metadata": {},
   "source": [
    "##### second analisis\n",
    "lets see if other cualitative data has some influence in the scores"
   ]
  },
  {
   "cell_type": "markdown",
   "id": "57d3ffe2",
   "metadata": {},
   "source": [
    "###### parenthal level of education"
   ]
  },
  {
   "cell_type": "code",
   "execution_count": 26,
   "id": "81c9d879",
   "metadata": {
    "ExecuteTime": {
     "end_time": "2021-10-09T11:02:35.104907Z",
     "start_time": "2021-10-09T11:02:35.089976Z"
    }
   },
   "outputs": [
    {
     "name": "stdout",
     "output_type": "stream",
     "text": [
      "math {'some college': 67.1283185840708, \"master's degree\": 69.7457627118644, \"associate's degree\": 67.88288288288288, 'high school': 62.13775510204081, 'some high school': 63.497206703910614, \"bachelor's degree\": 69.36752136752136}\n",
      "reading {'some college': 68.29424778761062, \"master's degree\": 72.55932203389831, \"associate's degree\": 69.4054054054054, 'high school': 63.420918367346935, 'some high school': 65.21787709497207, \"bachelor's degree\": 71.1880341880342}\n",
      "writing {'some college': 68.476401179941, \"master's degree\": 73.59887005649718, \"associate's degree\": 69.56906906906907, 'high school': 63.0969387755102, 'some high school': 65.10800744878958, \"bachelor's degree\": 71.91737891737891}\n"
     ]
    }
   ],
   "source": [
    "#parental level of education Analisis\n",
    "parental_statistics=defaultdict(list)\n",
    "\n",
    "#math\n",
    "for d in dataset:\n",
    "    parental_statistics[d['parental level of education']].append(d['math score'])\n",
    "    \n",
    "averageperparent={}\n",
    "for p in parental_statistics:\n",
    "    averageperparent[p]=sum(parental_statistics[p])/len(parental_statistics[p])\n",
    "    \n",
    "print('math',averageperparent)\n",
    "\n",
    "#reading\n",
    "for d in dataset:\n",
    "    parental_statistics[d['parental level of education']].append(d['reading score'])\n",
    "    \n",
    "averageperparent={}\n",
    "for p in parental_statistics:\n",
    "    averageperparent[p]=sum(parental_statistics[p])/len(parental_statistics[p])\n",
    "    \n",
    "print('reading',averageperparent)\n",
    "\n",
    "#writing\n",
    "for d in dataset:\n",
    "    parental_statistics[d['parental level of education']].append(d['writing score'])\n",
    "    \n",
    "averageperparent={}\n",
    "for p in parental_statistics:\n",
    "    averageperparent[p]=sum(parental_statistics[p])/len(parental_statistics[p])\n",
    "    \n",
    "print('writing',averageperparent)"
   ]
  },
  {
   "cell_type": "markdown",
   "id": "d47b5eb0",
   "metadata": {},
   "source": [
    "seems that with master and barchelor degree in the parents the scores are higher"
   ]
  },
  {
   "cell_type": "markdown",
   "id": "ab35bc91",
   "metadata": {
    "ExecuteTime": {
     "end_time": "2021-10-09T11:04:48.156863Z",
     "start_time": "2021-10-09T11:04:48.140906Z"
    }
   },
   "source": [
    "###### race and etnicity"
   ]
  },
  {
   "cell_type": "code",
   "execution_count": 28,
   "id": "f4a922b5",
   "metadata": {
    "ExecuteTime": {
     "end_time": "2021-10-09T11:07:09.412632Z",
     "start_time": "2021-10-09T11:07:09.401679Z"
    }
   },
   "outputs": [
    {
     "name": "stdout",
     "output_type": "stream",
     "text": [
      "math {'group C': 64.46394984326018, 'group B': 63.407407407407405, 'group A': 61.62921348314607, 'group D': 67.36259541984732, 'group E': 73.82142857142857}\n",
      "reading {'group C': 66.78369905956113, 'group B': 65.36772486772487, 'group A': 63.151685393258425, 'group D': 68.69656488549619, 'group E': 73.425}\n",
      "writing {'group C': 67.13166144200628, 'group B': 65.43033509700176, 'group A': 62.99250936329588, 'group D': 69.1793893129771, 'group E': 72.75238095238095}\n"
     ]
    }
   ],
   "source": [
    "#race Analisis\n",
    "race_statistics=defaultdict(list)\n",
    "\n",
    "#math\n",
    "for d in dataset:\n",
    "    race_statistics[d['race/ethnicity']].append(d['math score'])\n",
    "    \n",
    "averageperrace={}\n",
    "for p in race_statistics:\n",
    "    averageperrace[p]=sum(race_statistics[p])/len(race_statistics[p])\n",
    "    \n",
    "print('math',averageperrace)\n",
    "\n",
    "#reading\n",
    "for d in dataset:\n",
    "    race_statistics[d['race/ethnicity']].append(d['reading score'])\n",
    "    \n",
    "averageperrace={}\n",
    "for p in race_statistics:\n",
    "    averageperrace[p]=sum(race_statistics[p])/len(race_statistics[p])\n",
    "    \n",
    "print('reading',averageperrace)\n",
    "\n",
    "#writing\n",
    "for d in dataset:\n",
    "    race_statistics[d['race/ethnicity']].append(d['writing score'])\n",
    "    \n",
    "averageperrace={}\n",
    "for p in race_statistics:\n",
    "    averageperrace[p]=sum(race_statistics[p])/len(race_statistics[p])\n",
    "    \n",
    "print('writing',averageperrace)"
   ]
  },
  {
   "cell_type": "markdown",
   "id": "d5057f03",
   "metadata": {},
   "source": [
    "Group E has the better scores among the others"
   ]
  },
  {
   "cell_type": "markdown",
   "id": "7b81485d",
   "metadata": {
    "ExecuteTime": {
     "end_time": "2021-10-09T12:59:55.532620Z",
     "start_time": "2021-10-09T12:59:55.527633Z"
    }
   },
   "source": [
    "###### test preparation course analysis\n",
    "\n",
    "lastly i want to see if preparation wcourse work, however this could ebe influence by background of parents and race_statistics\n"
   ]
  },
  {
   "cell_type": "code",
   "execution_count": 30,
   "id": "6fcc613c",
   "metadata": {
    "ExecuteTime": {
     "end_time": "2021-10-09T13:02:20.029941Z",
     "start_time": "2021-10-09T13:02:20.012017Z"
    }
   },
   "outputs": [
    {
     "name": "stdout",
     "output_type": "stream",
     "text": [
      "math {'completed': 69.69553072625699, 'none': 64.06552262090483}\n",
      "reading {'completed': 71.79469273743017, 'none': 65.295631825273}\n",
      "writing {'completed': 72.66945996275605, 'none': 65.02704108164326}\n"
     ]
    }
   ],
   "source": [
    "#prep Analisis\n",
    "prep_statistics=defaultdict(list)\n",
    "\n",
    "#math\n",
    "for d in dataset:\n",
    "    prep_statistics[d['test preparation course']].append(d['math score'])\n",
    "    \n",
    "averageperprep={}\n",
    "for p in prep_statistics:\n",
    "    averageperprep[p]=sum(prep_statistics[p])/len(prep_statistics[p])\n",
    "    \n",
    "print('math',averageperprep)\n",
    "\n",
    "#reading\n",
    "for d in dataset:\n",
    "    prep_statistics[d['test preparation course']].append(d['reading score'])\n",
    "    \n",
    "averageperprep={}\n",
    "for p in prep_statistics:\n",
    "    averageperprep[p]=sum(prep_statistics[p])/len(prep_statistics[p])\n",
    "    \n",
    "print('reading',averageperprep)\n",
    "\n",
    "#writing\n",
    "for d in dataset:\n",
    "    prep_statistics[d['test preparation course']].append(d['writing score'])\n",
    "    \n",
    "averageperprep={}\n",
    "for p in prep_statistics:\n",
    "    averageperprep[p]=sum(prep_statistics[p])/len(prep_statistics[p])\n",
    "    \n",
    "print('writing',averageperprep)"
   ]
  },
  {
   "cell_type": "markdown",
   "id": "f90f2b41",
   "metadata": {
    "ExecuteTime": {
     "end_time": "2021-10-09T13:04:20.703104Z",
     "start_time": "2021-10-09T13:04:20.686147Z"
    }
   },
   "source": [
    "it seems that preparation course improves scores by 5-6 points"
   ]
  },
  {
   "cell_type": "markdown",
   "id": "d40a3e7a",
   "metadata": {
    "ExecuteTime": {
     "end_time": "2021-10-09T13:07:35.377769Z",
     "start_time": "2021-10-09T13:07:35.374802Z"
    }
   },
   "source": [
    "###### last analysis\n",
    "lets see if for example people with no complete preparation course, how parenthal level of education affect this in math scores\n",
    "\n"
   ]
  },
  {
   "cell_type": "code",
   "execution_count": 35,
   "id": "e4e74896",
   "metadata": {
    "ExecuteTime": {
     "end_time": "2021-10-09T13:16:27.186744Z",
     "start_time": "2021-10-09T13:16:27.181758Z"
    }
   },
   "outputs": [
    {
     "name": "stdout",
     "output_type": "stream",
     "text": [
      "math {\"master's degree\": 69.3076923076923, \"associate's degree\": 65.57142857142857, 'some college': 64.89261744966443, 'high school': 60.99285714285714, 'some high school': 61.07843137254902, \"bachelor's degree\": 66.83098591549296}\n"
     ]
    }
   ],
   "source": [
    "prep_statistics=defaultdict(list)\n",
    "\n",
    "for d in dataset:\n",
    "    if d['test preparation course']=='none':\n",
    "        prep_statistics[(d['parental level of education'])].append(d['math score'])\n",
    "    \n",
    "averageperprep={}\n",
    "for p in prep_statistics:\n",
    "    averageperprep[p]=sum(prep_statistics[p])/len(prep_statistics[p])\n",
    "    \n",
    "print('math',averageperprep)"
   ]
  },
  {
   "cell_type": "markdown",
   "id": "97c1f4fa",
   "metadata": {},
   "source": [
    "bachelor degree decreases the score and only master´s degree continue relative high"
   ]
  },
  {
   "cell_type": "markdown",
   "id": "1d7f760f",
   "metadata": {
    "ExecuteTime": {
     "end_time": "2021-10-09T13:19:40.547123Z",
     "start_time": "2021-10-09T13:19:40.534157Z"
    }
   },
   "source": [
    "#### Visualizations"
   ]
  },
  {
   "cell_type": "markdown",
   "id": "f12da171",
   "metadata": {
    "ExecuteTime": {
     "end_time": "2021-10-09T13:27:18.669082Z",
     "start_time": "2021-10-09T13:27:18.653090Z"
    }
   },
   "source": [
    "Lets see if race / etnicity has some relation with the level of education and this with the math scores for example"
   ]
  },
  {
   "cell_type": "code",
   "execution_count": 69,
   "id": "6200ca25",
   "metadata": {
    "ExecuteTime": {
     "end_time": "2021-10-09T14:11:03.096930Z",
     "start_time": "2021-10-09T14:11:02.970513Z"
    }
   },
   "outputs": [
    {
     "data": {
      "text/plain": [
       "Text(0, 0.5, 'parental level of education')"
      ]
     },
     "execution_count": 69,
     "metadata": {},
     "output_type": "execute_result"
    },
    {
     "data": {
      "image/png": "[encoded data removed]",
      "text/plain": [
       "<Figure size 432x288 with 1 Axes>"
      ]
     },
     "metadata": {
      "needs_background": "light"
     },
     "output_type": "display_data"
    }
   ],
   "source": [
    "# for this we are going to use a bubble plot to show the correlation and the scores\n",
    "import matplotlib.pyplot as plt\n",
    "\n",
    "plt.figsize=(12, 8)\n",
    "\n",
    "#1 - data selection\n",
    "race_list=[]\n",
    "for d in dataset:\n",
    "    race_list.append(d['race/ethnicity'])\n",
    "    \n",
    "education_list=[]\n",
    "for d in dataset:\n",
    "    education_list.append(d['parental level of education'])\n",
    "    \n",
    "math_list=[]\n",
    "for d in dataset:\n",
    "    math_list.append(d['math score']/60*250)\n",
    "    \n",
    "race_list = sorted(race_list)\n",
    "\n",
    "plt.scatter(race_list, education_list, \n",
    "                 alpha=0.6,\n",
    "                 s = math_list,\n",
    "                 edgecolors=\"white\")\n",
    "\n",
    "plt.xlabel(\"race/ethnicity\", size=12)\n",
    "plt.ylabel(\"parental level of education\", size=12)"
   ]
  },
  {
   "cell_type": "markdown",
   "id": "ffacdbb9",
   "metadata": {
    "ExecuteTime": {
     "end_time": "2021-10-09T14:13:39.469619Z",
     "start_time": "2021-10-09T14:13:39.465630Z"
    }
   },
   "source": [
    "maybe race its more important than parental level of education, results are similar en D and E with little differente not matter the parental level of education"
   ]
  }
 ],
 "metadata": {
  "kernelspec": {
   "display_name": "Python 3",
   "language": "python",
   "name": "python3"
  },
  "language_info": {
   "codemirror_mode": {
    "name": "ipython",
    "version": 3
   },
   "file_extension": ".py",
   "mimetype": "text/x-python",
   "name": "python",
   "nbconvert_exporter": "python",
   "pygments_lexer": "ipython3",
   "version": "3.8.8"
  },
  "toc": {
   "base_numbering": 1,
   "nav_menu": {},
   "number_sections": true,
   "sideBar": true,
   "skip_h1_title": false,
   "title_cell": "Table of Contents",
   "title_sidebar": "Contents",
   "toc_cell": false,
   "toc_position": {},
   "toc_section_display": true,
   "toc_window_display": false
  },
  "varInspector": {
   "cols": {
    "lenName": 16,
    "lenType": 16,
    "lenVar": 40
   },
   "kernels_config": {
    "python": {
     "delete_cmd_postfix": "",
     "delete_cmd_prefix": "del ",
     "library": "var_list.py",
     "varRefreshCmd": "print(var_dic_list())"
    },
    "r": {
     "delete_cmd_postfix": ") ",
     "delete_cmd_prefix": "rm(",
     "library": "var_list.r",
     "varRefreshCmd": "cat(var_dic_list()) "
    }
   },
   "types_to_exclude": [
    "module",
    "function",
    "builtin_function_or_method",
    "instance",
    "_Feature"
   ],
   "window_display": false
  }
 },
 "nbformat": 4,
 "nbformat_minor": 5
}
